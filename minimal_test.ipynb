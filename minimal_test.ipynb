{
 "cells": [
  {
   "cell_type": "code",
   "execution_count": null,
   "metadata": {},
   "outputs": [],
   "source": [
    "def get_stdout():\n",
    "    import paramiko\n",
    "    wrds_id = \"iangow\"\n",
    "    sas_code = \"proc contents data=crsp.msi; run;\"\n",
    "    client = paramiko.SSHClient()\n",
    "    client.load_system_host_keys()\n",
    "\n",
    "    client.connect('wrds-cloud.wharton.upenn.edu',\n",
    "                   username=wrds_id, compress=True)\n",
    "\n",
    "    stdin, stdout, stderr = client.exec_command(\"qsas -stdio -noterminal\")\n",
    "    stdin.write(sas_code)\n",
    "    stdin.close()\n",
    "\n",
    "    channel = stdout.channel\n",
    "    channel.shutdown_write()\n",
    "    channel\n",
    "    return stdout\n",
    "\n",
    "# indicate that we're not going to write to that channel anymore\n",
    "stdout = get_stdout()\n",
    "for i in stdout.readlines():\n",
    "    print(i)"
   ]
  },
  {
   "cell_type": "code",
   "execution_count": null,
   "metadata": {},
   "outputs": [],
   "source": [
    "from wrds_fetch import get_process\n",
    "p = get_process(sas_code = \"proc contents data=crsp.msi; run;\", wrds_id=\"iangow\")\n",
    "for i in p:\n",
    "    print(i)"
   ]
  },
  {
   "cell_type": "code",
   "execution_count": null,
   "metadata": {
    "collapsed": true,
    "jupyter": {
     "outputs_hidden": true
    }
   },
   "outputs": [],
   "source": [
    "from wrds_fetch import get_wrds_process\n",
    "import pandas as pd\n",
    "from io import StringIO\n",
    "p = get_wrds_process(table_name = \"dsi\", schema = \"crsp\", wrds_id = \"iangow\")\n",
    "df = pd.read_csv(StringIO(p.read().decode('latin1')))\n",
    "df.columns = map(str.lower, df.columns)\n",
    "p.close()"
   ]
  },
  {
   "cell_type": "code",
   "execution_count": null,
   "metadata": {},
   "outputs": [],
   "source": [
    "df"
   ]
  },
  {
   "cell_type": "code",
   "execution_count": null,
   "metadata": {},
   "outputs": [],
   "source": [
    "import pandas \n",
    "pandas.__version__"
   ]
  }
 ],
 "metadata": {
  "kernelspec": {
   "display_name": "Python 3",
   "language": "python",
   "name": "python3"
  },
  "language_info": {
   "codemirror_mode": {
    "name": "ipython",
    "version": 3
   },
   "file_extension": ".py",
   "mimetype": "text/x-python",
   "name": "python",
   "nbconvert_exporter": "python",
   "pygments_lexer": "ipython3",
   "version": "3.7.4"
  }
 },
 "nbformat": 4,
 "nbformat_minor": 4
}
